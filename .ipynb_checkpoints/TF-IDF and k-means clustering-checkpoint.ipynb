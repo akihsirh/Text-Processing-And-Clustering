{
 "cells": [
  {
   "cell_type": "code",
   "execution_count": 1,
   "metadata": {},
   "outputs": [],
   "source": [
    "import pandas as pd\n",
    "import numpy as np"
   ]
  },
  {
   "cell_type": "markdown",
   "metadata": {},
   "source": [
    "## I. Load and clean the dataset"
   ]
  },
  {
   "cell_type": "code",
   "execution_count": 2,
   "metadata": {},
   "outputs": [
    {
     "data": {
      "text/html": [
       "<div>\n",
       "<style scoped>\n",
       "    .dataframe tbody tr th:only-of-type {\n",
       "        vertical-align: middle;\n",
       "    }\n",
       "\n",
       "    .dataframe tbody tr th {\n",
       "        vertical-align: top;\n",
       "    }\n",
       "\n",
       "    .dataframe thead th {\n",
       "        text-align: right;\n",
       "    }\n",
       "</style>\n",
       "<table border=\"1\" class=\"dataframe\">\n",
       "  <thead>\n",
       "    <tr style=\"text-align: right;\">\n",
       "      <th></th>\n",
       "      <th>date</th>\n",
       "      <th>summary</th>\n",
       "      <th>review</th>\n",
       "      <th>rating</th>\n",
       "    </tr>\n",
       "  </thead>\n",
       "  <tbody>\n",
       "    <tr>\n",
       "      <td>92392</td>\n",
       "      <td>2012-12-09</td>\n",
       "      <td>Perfect fit</td>\n",
       "      <td>We use prefolds and covers for our primary dia...</td>\n",
       "      <td>5</td>\n",
       "    </tr>\n",
       "    <tr>\n",
       "      <td>62576</td>\n",
       "      <td>2012-07-19</td>\n",
       "      <td>No way this thing actually works</td>\n",
       "      <td>Honestly, the manufacturer says that this ster...</td>\n",
       "      <td>1</td>\n",
       "    </tr>\n",
       "    <tr>\n",
       "      <td>195121</td>\n",
       "      <td>2014-03-05</td>\n",
       "      <td>Cable works as described</td>\n",
       "      <td>Bought this for my daughter along with her new...</td>\n",
       "      <td>5</td>\n",
       "    </tr>\n",
       "    <tr>\n",
       "      <td>177073</td>\n",
       "      <td>2015-11-29</td>\n",
       "      <td>Love it!</td>\n",
       "      <td>Color by itself looks really delicate. Works p...</td>\n",
       "      <td>5</td>\n",
       "    </tr>\n",
       "    <tr>\n",
       "      <td>166082</td>\n",
       "      <td>2014-10-25</td>\n",
       "      <td>Works great for my fine hair</td>\n",
       "      <td>I have always had baby fine hair, so have trie...</td>\n",
       "      <td>5</td>\n",
       "    </tr>\n",
       "    <tr>\n",
       "      <td>68283</td>\n",
       "      <td>2011-05-04</td>\n",
       "      <td>Couldnt stay sane without it</td>\n",
       "      <td>This is hands-down my #1 preggo product - it g...</td>\n",
       "      <td>5</td>\n",
       "    </tr>\n",
       "    <tr>\n",
       "      <td>49168</td>\n",
       "      <td>2012-12-10</td>\n",
       "      <td>best bottles out there</td>\n",
       "      <td>love these. the only downside is that there ar...</td>\n",
       "      <td>5</td>\n",
       "    </tr>\n",
       "    <tr>\n",
       "      <td>8058</td>\n",
       "      <td>2011-12-20</td>\n",
       "      <td>Apparently I have the old version</td>\n",
       "      <td>When I clicked on the link to provide a review...</td>\n",
       "      <td>5</td>\n",
       "    </tr>\n",
       "    <tr>\n",
       "      <td>61701</td>\n",
       "      <td>2011-11-01</td>\n",
       "      <td>Very cute</td>\n",
       "      <td>Easy to get on and take off, zipper does not s...</td>\n",
       "      <td>5</td>\n",
       "    </tr>\n",
       "    <tr>\n",
       "      <td>55802</td>\n",
       "      <td>2013-04-29</td>\n",
       "      <td>Great value and product</td>\n",
       "      <td>I have loved the Medela brand products.  They ...</td>\n",
       "      <td>5</td>\n",
       "    </tr>\n",
       "  </tbody>\n",
       "</table>\n",
       "</div>"
      ],
      "text/plain": [
       "              date                            summary  \\\n",
       "92392   2012-12-09                        Perfect fit   \n",
       "62576   2012-07-19   No way this thing actually works   \n",
       "195121  2014-03-05           Cable works as described   \n",
       "177073  2015-11-29                           Love it!   \n",
       "166082  2014-10-25       Works great for my fine hair   \n",
       "68283   2011-05-04       Couldnt stay sane without it   \n",
       "49168   2012-12-10             best bottles out there   \n",
       "8058    2011-12-20  Apparently I have the old version   \n",
       "61701   2011-11-01                          Very cute   \n",
       "55802   2013-04-29            Great value and product   \n",
       "\n",
       "                                                   review  rating  \n",
       "92392   We use prefolds and covers for our primary dia...       5  \n",
       "62576   Honestly, the manufacturer says that this ster...       1  \n",
       "195121  Bought this for my daughter along with her new...       5  \n",
       "177073  Color by itself looks really delicate. Works p...       5  \n",
       "166082  I have always had baby fine hair, so have trie...       5  \n",
       "68283   This is hands-down my #1 preggo product - it g...       5  \n",
       "49168   love these. the only downside is that there ar...       5  \n",
       "8058    When I clicked on the link to provide a review...       5  \n",
       "61701   Easy to get on and take off, zipper does not s...       5  \n",
       "55802   I have loved the Medela brand products.  They ...       5  "
      ]
     },
     "execution_count": 2,
     "metadata": {},
     "output_type": "execute_result"
    }
   ],
   "source": [
    "amreviews = pd.read_csv(\"amazon-reviews.csv.bz2\", sep=\"\\t\")\n",
    "amreviews.sample(10)"
   ]
  },
  {
   "cell_type": "markdown",
   "metadata": {},
   "source": [
    "### Remove missing and empty reviews"
   ]
  },
  {
   "cell_type": "code",
   "execution_count": 3,
   "metadata": {},
   "outputs": [
    {
     "data": {
      "text/plain": [
       "80"
      ]
     },
     "execution_count": 3,
     "metadata": {},
     "output_type": "execute_result"
    }
   ],
   "source": [
    "#Check for na values\n",
    "amreviews.review.isna().sum()"
   ]
  },
  {
   "cell_type": "code",
   "execution_count": 4,
   "metadata": {},
   "outputs": [
    {
     "data": {
      "text/plain": [
       "(array([], dtype=int64),)"
      ]
     },
     "execution_count": 4,
     "metadata": {},
     "output_type": "execute_result"
    }
   ],
   "source": [
    "#Check for empty strings \n",
    "np.where(amreviews.review.apply(lambda x: x == ''))"
   ]
  },
  {
   "cell_type": "markdown",
   "metadata": {},
   "source": [
    "Based on above we only have nan values. Let's go ahead and drop this."
   ]
  },
  {
   "cell_type": "code",
   "execution_count": 5,
   "metadata": {},
   "outputs": [],
   "source": [
    "#drop na \n",
    "amreviews_mod = amreviews.drop(amreviews[amreviews.review.isna()].index).reset_index()"
   ]
  },
  {
   "cell_type": "markdown",
   "metadata": {},
   "source": [
    "Taking a subset of the data"
   ]
  },
  {
   "cell_type": "code",
   "execution_count": 6,
   "metadata": {},
   "outputs": [],
   "source": [
    "# take a sample of 5000 reviews\n",
    "np.random.seed(1867)\n",
    "amreviews_sample = amreviews_mod.sample(5000)"
   ]
  },
  {
   "cell_type": "code",
   "execution_count": 7,
   "metadata": {},
   "outputs": [
    {
     "data": {
      "text/html": [
       "<div>\n",
       "<style scoped>\n",
       "    .dataframe tbody tr th:only-of-type {\n",
       "        vertical-align: middle;\n",
       "    }\n",
       "\n",
       "    .dataframe tbody tr th {\n",
       "        vertical-align: top;\n",
       "    }\n",
       "\n",
       "    .dataframe thead th {\n",
       "        text-align: right;\n",
       "    }\n",
       "</style>\n",
       "<table border=\"1\" class=\"dataframe\">\n",
       "  <thead>\n",
       "    <tr style=\"text-align: right;\">\n",
       "      <th></th>\n",
       "      <th>index</th>\n",
       "      <th>date</th>\n",
       "      <th>summary</th>\n",
       "      <th>review</th>\n",
       "      <th>rating</th>\n",
       "    </tr>\n",
       "  </thead>\n",
       "  <tbody>\n",
       "    <tr>\n",
       "      <td>78644</td>\n",
       "      <td>78674</td>\n",
       "      <td>2011-05-16</td>\n",
       "      <td>love it now that i've gotten used to it!</td>\n",
       "      <td>I had been searching everywhere for a car seat...</td>\n",
       "      <td>4</td>\n",
       "    </tr>\n",
       "    <tr>\n",
       "      <td>93715</td>\n",
       "      <td>93752</td>\n",
       "      <td>2012-12-25</td>\n",
       "      <td>Kids love</td>\n",
       "      <td>My toddler loves this toy.  She can't turn the...</td>\n",
       "      <td>5</td>\n",
       "    </tr>\n",
       "    <tr>\n",
       "      <td>61100</td>\n",
       "      <td>61125</td>\n",
       "      <td>2010-09-04</td>\n",
       "      <td>Absorbent, but they shrink.</td>\n",
       "      <td>WARNING: Do not use an enzyme spray on these p...</td>\n",
       "      <td>3</td>\n",
       "    </tr>\n",
       "    <tr>\n",
       "      <td>120860</td>\n",
       "      <td>120904</td>\n",
       "      <td>2012-10-10</td>\n",
       "      <td>Cheap and works everytime!</td>\n",
       "      <td>This is such a great and amazing buy for mommi...</td>\n",
       "      <td>5</td>\n",
       "    </tr>\n",
       "    <tr>\n",
       "      <td>162512</td>\n",
       "      <td>162572</td>\n",
       "      <td>2016-03-15</td>\n",
       "      <td>Perfect</td>\n",
       "      <td>Wanted a natural nail polish. And this is the ...</td>\n",
       "      <td>5</td>\n",
       "    </tr>\n",
       "    <tr>\n",
       "      <td>35418</td>\n",
       "      <td>35434</td>\n",
       "      <td>2011-01-11</td>\n",
       "      <td>Decent liners for protecting your diaper</td>\n",
       "      <td>I purchased these because I wanted a liner tha...</td>\n",
       "      <td>4</td>\n",
       "    </tr>\n",
       "    <tr>\n",
       "      <td>132678</td>\n",
       "      <td>132729</td>\n",
       "      <td>2013-02-19</td>\n",
       "      <td>Nice gate</td>\n",
       "      <td>This thing must have gone to heck and back bef...</td>\n",
       "      <td>4</td>\n",
       "    </tr>\n",
       "    <tr>\n",
       "      <td>51895</td>\n",
       "      <td>51916</td>\n",
       "      <td>2013-02-21</td>\n",
       "      <td>Good product that only requires one hand to op...</td>\n",
       "      <td>This Diaper Genie really works well, although ...</td>\n",
       "      <td>4</td>\n",
       "    </tr>\n",
       "    <tr>\n",
       "      <td>82814</td>\n",
       "      <td>82847</td>\n",
       "      <td>2013-11-18</td>\n",
       "      <td>Goth Mom approved!</td>\n",
       "      <td>I got this, being a 'goth mom', I  was so exci...</td>\n",
       "      <td>5</td>\n",
       "    </tr>\n",
       "    <tr>\n",
       "      <td>75834</td>\n",
       "      <td>75862</td>\n",
       "      <td>2014-05-09</td>\n",
       "      <td>Worth the money</td>\n",
       "      <td>I was originally being ghetto and used a sport...</td>\n",
       "      <td>5</td>\n",
       "    </tr>\n",
       "  </tbody>\n",
       "</table>\n",
       "</div>"
      ],
      "text/plain": [
       "         index        date                                            summary  \\\n",
       "78644    78674  2011-05-16           love it now that i've gotten used to it!   \n",
       "93715    93752  2012-12-25                                          Kids love   \n",
       "61100    61125  2010-09-04                        Absorbent, but they shrink.   \n",
       "120860  120904  2012-10-10                         Cheap and works everytime!   \n",
       "162512  162572  2016-03-15                                            Perfect   \n",
       "35418    35434  2011-01-11           Decent liners for protecting your diaper   \n",
       "132678  132729  2013-02-19                                          Nice gate   \n",
       "51895    51916  2013-02-21  Good product that only requires one hand to op...   \n",
       "82814    82847  2013-11-18                                 Goth Mom approved!   \n",
       "75834    75862  2014-05-09                                    Worth the money   \n",
       "\n",
       "                                                   review  rating  \n",
       "78644   I had been searching everywhere for a car seat...       4  \n",
       "93715   My toddler loves this toy.  She can't turn the...       5  \n",
       "61100   WARNING: Do not use an enzyme spray on these p...       3  \n",
       "120860  This is such a great and amazing buy for mommi...       5  \n",
       "162512  Wanted a natural nail polish. And this is the ...       5  \n",
       "35418   I purchased these because I wanted a liner tha...       4  \n",
       "132678  This thing must have gone to heck and back bef...       4  \n",
       "51895   This Diaper Genie really works well, although ...       4  \n",
       "82814   I got this, being a 'goth mom', I  was so exci...       5  \n",
       "75834   I was originally being ghetto and used a sport...       5  "
      ]
     },
     "execution_count": 7,
     "metadata": {},
     "output_type": "execute_result"
    }
   ],
   "source": [
    "#view sample\n",
    "amreviews_sample.sample(10)"
   ]
  },
  {
   "cell_type": "markdown",
   "metadata": {},
   "source": [
    "## II. TF-IDF Transform"
   ]
  },
  {
   "cell_type": "markdown",
   "metadata": {},
   "source": [
    "### Transform reviews into Bag-Of-Words"
   ]
  },
  {
   "cell_type": "code",
   "execution_count": 8,
   "metadata": {},
   "outputs": [],
   "source": [
    "# import\n",
    "import sklearn\n",
    "from sklearn.feature_extraction.text import CountVectorizer\n",
    "from sklearn.feature_extraction import stop_words"
   ]
  },
  {
   "cell_type": "code",
   "execution_count": 9,
   "metadata": {},
   "outputs": [],
   "source": [
    "# convert in BOW\n",
    "vectorizer = CountVectorizer(stop_words=stop_words.ENGLISH_STOP_WORDS)\n",
    "X = vectorizer.fit_transform(amreviews_sample.review.values)"
   ]
  },
  {
   "cell_type": "markdown",
   "metadata": {},
   "source": [
    "### Write a function that performs TF-IDF"
   ]
  },
  {
   "cell_type": "code",
   "execution_count": 10,
   "metadata": {},
   "outputs": [],
   "source": [
    "def get_tfidf_matrix(X):\n",
    "    #function to calculate term freq for each element\n",
    "    tf = lambda x: np.log(1+x)\n",
    "    # apply tf lambda on matrix\n",
    "    tf_result = np.apply_along_axis(tf,1,X.toarray())  \n",
    "    #Get the total number of documents/reviews\n",
    "    N = len(X.toarray())\n",
    "    # Get frequency of each word across all documents\n",
    "    overall_freq = X.toarray().sum(axis=0)\n",
    "    # function to calculate idf for each word\n",
    "    idf = lambda x: np.log(N/(1+x))\n",
    "    idf_result = idf(overall_freq)\n",
    "    #multiply tf with idf for each document\n",
    "    return np.multiply(tf_result,idf_result)"
   ]
  },
  {
   "cell_type": "code",
   "execution_count": 11,
   "metadata": {},
   "outputs": [],
   "source": [
    "#get tf-idf matrix for reviews\n",
    "tf_idf = get_tfidf_matrix(X)"
   ]
  },
  {
   "cell_type": "markdown",
   "metadata": {},
   "source": [
    "## III. Implement k-means clustering using cosine similarity"
   ]
  },
  {
   "cell_type": "markdown",
   "metadata": {},
   "source": [
    "**Let's make 5 clusters!**"
   ]
  },
  {
   "cell_type": "code",
   "execution_count": 12,
   "metadata": {},
   "outputs": [
    {
     "data": {
      "text/plain": [
       "array([3745,  212, 2756,  411, 1805])"
      ]
     },
     "execution_count": 12,
     "metadata": {},
     "output_type": "execute_result"
    }
   ],
   "source": [
    "# Assign number of clusters to variables\n",
    "n = 5\n",
    "#Generate 5 random indices \n",
    "np.random.seed(45678)\n",
    "indices = np.random.choice(tf_idf.shape[0], n, replace=False)\n",
    "indices"
   ]
  },
  {
   "cell_type": "code",
   "execution_count": 13,
   "metadata": {},
   "outputs": [
    {
     "data": {
      "text/plain": [
       "array([0., 0., 0., ..., 0., 0., 0.])"
      ]
     },
     "execution_count": 13,
     "metadata": {},
     "output_type": "execute_result"
    }
   ],
   "source": [
    "# Store the 5 randomly selected reviews as cluster centres\n",
    "cluster_centres = tf_idf[indices]\n",
    "#View cluster center\n",
    "cluster_centres[1]"
   ]
  },
  {
   "cell_type": "code",
   "execution_count": null,
   "metadata": {},
   "outputs": [],
   "source": [
    "def get_norm(X):"
   ]
  },
  {
   "cell_type": "code",
   "execution_count": 15,
   "metadata": {},
   "outputs": [],
   "source": [
    "# Create dictionary to hold clusters\n",
    "cluster_dict = {}\n",
    "\n",
    "#initialize cluster dictionary\n",
    "for index in range(n):\n",
    "    if index == 0:\n",
    "        cluster_dict[index] = tf_idf.copy()\n",
    "    else:\n",
    "        cluster_dict[index] = []"
   ]
  },
  {
   "cell_type": "code",
   "execution_count": 52,
   "metadata": {},
   "outputs": [
    {
     "name": "stdout",
     "output_type": "stream",
     "text": [
      "[[0.03473985 0.01613451 0.         0.         0.        ]\n",
      " [0.02378835 0.00377097 0.04658059 0.         0.        ]\n",
      " [0.14375591 0.         0.         0.         0.03508982]\n",
      " ...\n",
      " [0.02127519 0.01978556 0.02517125 0.         0.00385946]\n",
      " [0.         0.01863297 0.         0.         0.12962742]\n",
      " [0.         0.01753468 0.02914705 0.         0.01378514]]\n"
     ]
    }
   ],
   "source": [
    "def get_cossim(reviews, centers):\n",
    "    dot_product = np.dot(reviews, centers.T)\n",
    "    review_norm = np.linalg.norm(reviews, axis = 1)\n",
    "    review_norm = review_norm.reshape(reviews.shape[0],1)\n",
    "    center_norm = np.linalg.norm(centers, axis = 1)\n",
    "    center_norm = center_norm.reshape(centers.shape[0],1)\n",
    "    return dot_product / (review_norm.dot(center_norm.T))\n",
    "\n",
    "print(get_cossim(tf_idf, cluster_centres))"
   ]
  }
 ],
 "metadata": {
  "kernelspec": {
   "display_name": "Python 3",
   "language": "python",
   "name": "python3"
  },
  "language_info": {
   "codemirror_mode": {
    "name": "ipython",
    "version": 3
   },
   "file_extension": ".py",
   "mimetype": "text/x-python",
   "name": "python",
   "nbconvert_exporter": "python",
   "pygments_lexer": "ipython3",
   "version": "3.7.4"
  }
 },
 "nbformat": 4,
 "nbformat_minor": 2
}
