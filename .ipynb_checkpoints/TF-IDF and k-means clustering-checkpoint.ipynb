{
 "cells": [
  {
   "cell_type": "code",
   "execution_count": 1,
   "metadata": {},
   "outputs": [],
   "source": [
    "import pandas as pd\n",
    "import numpy as np"
   ]
  },
  {
   "cell_type": "markdown",
   "metadata": {},
   "source": [
    "## I. Load and clean the dataset"
   ]
  },
  {
   "cell_type": "code",
   "execution_count": 9,
   "metadata": {},
   "outputs": [
    {
     "data": {
      "text/html": [
       "<div>\n",
       "<style scoped>\n",
       "    .dataframe tbody tr th:only-of-type {\n",
       "        vertical-align: middle;\n",
       "    }\n",
       "\n",
       "    .dataframe tbody tr th {\n",
       "        vertical-align: top;\n",
       "    }\n",
       "\n",
       "    .dataframe thead th {\n",
       "        text-align: right;\n",
       "    }\n",
       "</style>\n",
       "<table border=\"1\" class=\"dataframe\">\n",
       "  <thead>\n",
       "    <tr style=\"text-align: right;\">\n",
       "      <th></th>\n",
       "      <th>date</th>\n",
       "      <th>summary</th>\n",
       "      <th>review</th>\n",
       "      <th>rating</th>\n",
       "    </tr>\n",
       "  </thead>\n",
       "  <tbody>\n",
       "    <tr>\n",
       "      <td>109955</td>\n",
       "      <td>2013-12-31</td>\n",
       "      <td>Love this</td>\n",
       "      <td>This is great for teething baby!  On days she ...</td>\n",
       "      <td>4</td>\n",
       "    </tr>\n",
       "    <tr>\n",
       "      <td>194271</td>\n",
       "      <td>2015-09-30</td>\n",
       "      <td>Quality and craftmanship</td>\n",
       "      <td>I have used and own many JA Henckels products ...</td>\n",
       "      <td>5</td>\n",
       "    </tr>\n",
       "    <tr>\n",
       "      <td>204898</td>\n",
       "      <td>2014-04-30</td>\n",
       "      <td>Does ONE thing well... Just not well enough fo...</td>\n",
       "      <td>This is a very cheap little practice amp, and ...</td>\n",
       "      <td>3</td>\n",
       "    </tr>\n",
       "    <tr>\n",
       "      <td>92962</td>\n",
       "      <td>2012-02-25</td>\n",
       "      <td>cute but...</td>\n",
       "      <td>i really wanted to say this is a 5 star produc...</td>\n",
       "      <td>4</td>\n",
       "    </tr>\n",
       "    <tr>\n",
       "      <td>79445</td>\n",
       "      <td>2012-01-28</td>\n",
       "      <td>Large, but thin</td>\n",
       "      <td>Haven't used this yet, but it is alot larger i...</td>\n",
       "      <td>3</td>\n",
       "    </tr>\n",
       "    <tr>\n",
       "      <td>64918</td>\n",
       "      <td>2012-06-16</td>\n",
       "      <td>Good quallity product</td>\n",
       "      <td>I received this as a baby shower gift and I hi...</td>\n",
       "      <td>5</td>\n",
       "    </tr>\n",
       "    <tr>\n",
       "      <td>189828</td>\n",
       "      <td>2015-11-29</td>\n",
       "      <td>So fresh and so clean</td>\n",
       "      <td>I've always been very pleased with Bliss produ...</td>\n",
       "      <td>4</td>\n",
       "    </tr>\n",
       "    <tr>\n",
       "      <td>113313</td>\n",
       "      <td>2011-05-02</td>\n",
       "      <td>Very Happy</td>\n",
       "      <td>I love the bassinet so far!!! It was very easy...</td>\n",
       "      <td>5</td>\n",
       "    </tr>\n",
       "    <tr>\n",
       "      <td>196040</td>\n",
       "      <td>2013-02-16</td>\n",
       "      <td>hydration station</td>\n",
       "      <td>it does what it says it does.  only complaint ...</td>\n",
       "      <td>4</td>\n",
       "    </tr>\n",
       "    <tr>\n",
       "      <td>205009</td>\n",
       "      <td>2014-04-26</td>\n",
       "      <td>Spend some time, and you'll love it.</td>\n",
       "      <td>It does take a little getting used to the prog...</td>\n",
       "      <td>5</td>\n",
       "    </tr>\n",
       "  </tbody>\n",
       "</table>\n",
       "</div>"
      ],
      "text/plain": [
       "              date                                            summary  \\\n",
       "109955  2013-12-31                                          Love this   \n",
       "194271  2015-09-30                           Quality and craftmanship   \n",
       "204898  2014-04-30  Does ONE thing well... Just not well enough fo...   \n",
       "92962   2012-02-25                                        cute but...   \n",
       "79445   2012-01-28                                    Large, but thin   \n",
       "64918   2012-06-16                              Good quallity product   \n",
       "189828  2015-11-29                              So fresh and so clean   \n",
       "113313  2011-05-02                                         Very Happy   \n",
       "196040  2013-02-16                                  hydration station   \n",
       "205009  2014-04-26               Spend some time, and you'll love it.   \n",
       "\n",
       "                                                   review  rating  \n",
       "109955  This is great for teething baby!  On days she ...       4  \n",
       "194271  I have used and own many JA Henckels products ...       5  \n",
       "204898  This is a very cheap little practice amp, and ...       3  \n",
       "92962   i really wanted to say this is a 5 star produc...       4  \n",
       "79445   Haven't used this yet, but it is alot larger i...       3  \n",
       "64918   I received this as a baby shower gift and I hi...       5  \n",
       "189828  I've always been very pleased with Bliss produ...       4  \n",
       "113313  I love the bassinet so far!!! It was very easy...       5  \n",
       "196040  it does what it says it does.  only complaint ...       4  \n",
       "205009  It does take a little getting used to the prog...       5  "
      ]
     },
     "execution_count": 9,
     "metadata": {},
     "output_type": "execute_result"
    }
   ],
   "source": [
    "amreviews = pd.read_csv(\"amazon-reviews.csv.bz2\", sep=\"\\t\")\n",
    "amreviews.sample(10)"
   ]
  },
  {
   "cell_type": "markdown",
   "metadata": {},
   "source": [
    "### Remove missing and empty reviews"
   ]
  },
  {
   "cell_type": "code",
   "execution_count": 10,
   "metadata": {},
   "outputs": [
    {
     "data": {
      "text/plain": [
       "80"
      ]
     },
     "execution_count": 10,
     "metadata": {},
     "output_type": "execute_result"
    }
   ],
   "source": [
    "#Check for na values\n",
    "amreviews.review.isna().sum()"
   ]
  },
  {
   "cell_type": "code",
   "execution_count": 11,
   "metadata": {},
   "outputs": [
    {
     "data": {
      "text/plain": [
       "(array([], dtype=int64),)"
      ]
     },
     "execution_count": 11,
     "metadata": {},
     "output_type": "execute_result"
    }
   ],
   "source": [
    "#Check for empty strings \n",
    "np.where(amreviews.review.apply(lambda x: x == ''))"
   ]
  },
  {
   "cell_type": "markdown",
   "metadata": {},
   "source": [
    "Based on above we only have nan values. Let's go ahead and drop this."
   ]
  },
  {
   "cell_type": "code",
   "execution_count": 12,
   "metadata": {},
   "outputs": [],
   "source": [
    "#drop na \n",
    "amreviews_mod = amreviews.drop(amreviews[amreviews.review.isna()].index).reset_index()"
   ]
  },
  {
   "cell_type": "markdown",
   "metadata": {},
   "source": [
    "Taking a subset of the data"
   ]
  },
  {
   "cell_type": "code",
   "execution_count": 14,
   "metadata": {},
   "outputs": [],
   "source": [
    "# take a sample of 5000 reviews\n",
    "np.random.seed(1867)\n",
    "amreviews_sample = amreviews_mod.sample(5000)"
   ]
  },
  {
   "cell_type": "code",
   "execution_count": 15,
   "metadata": {},
   "outputs": [
    {
     "data": {
      "text/html": [
       "<div>\n",
       "<style scoped>\n",
       "    .dataframe tbody tr th:only-of-type {\n",
       "        vertical-align: middle;\n",
       "    }\n",
       "\n",
       "    .dataframe tbody tr th {\n",
       "        vertical-align: top;\n",
       "    }\n",
       "\n",
       "    .dataframe thead th {\n",
       "        text-align: right;\n",
       "    }\n",
       "</style>\n",
       "<table border=\"1\" class=\"dataframe\">\n",
       "  <thead>\n",
       "    <tr style=\"text-align: right;\">\n",
       "      <th></th>\n",
       "      <th>index</th>\n",
       "      <th>date</th>\n",
       "      <th>summary</th>\n",
       "      <th>review</th>\n",
       "      <th>rating</th>\n",
       "    </tr>\n",
       "  </thead>\n",
       "  <tbody>\n",
       "    <tr>\n",
       "      <td>78644</td>\n",
       "      <td>78674</td>\n",
       "      <td>2011-05-16</td>\n",
       "      <td>love it now that i've gotten used to it!</td>\n",
       "      <td>I had been searching everywhere for a car seat...</td>\n",
       "      <td>4</td>\n",
       "    </tr>\n",
       "    <tr>\n",
       "      <td>93715</td>\n",
       "      <td>93752</td>\n",
       "      <td>2012-12-25</td>\n",
       "      <td>Kids love</td>\n",
       "      <td>My toddler loves this toy.  She can't turn the...</td>\n",
       "      <td>5</td>\n",
       "    </tr>\n",
       "    <tr>\n",
       "      <td>61100</td>\n",
       "      <td>61125</td>\n",
       "      <td>2010-09-04</td>\n",
       "      <td>Absorbent, but they shrink.</td>\n",
       "      <td>WARNING: Do not use an enzyme spray on these p...</td>\n",
       "      <td>3</td>\n",
       "    </tr>\n",
       "    <tr>\n",
       "      <td>120860</td>\n",
       "      <td>120904</td>\n",
       "      <td>2012-10-10</td>\n",
       "      <td>Cheap and works everytime!</td>\n",
       "      <td>This is such a great and amazing buy for mommi...</td>\n",
       "      <td>5</td>\n",
       "    </tr>\n",
       "    <tr>\n",
       "      <td>162512</td>\n",
       "      <td>162572</td>\n",
       "      <td>2016-03-15</td>\n",
       "      <td>Perfect</td>\n",
       "      <td>Wanted a natural nail polish. And this is the ...</td>\n",
       "      <td>5</td>\n",
       "    </tr>\n",
       "    <tr>\n",
       "      <td>35418</td>\n",
       "      <td>35434</td>\n",
       "      <td>2011-01-11</td>\n",
       "      <td>Decent liners for protecting your diaper</td>\n",
       "      <td>I purchased these because I wanted a liner tha...</td>\n",
       "      <td>4</td>\n",
       "    </tr>\n",
       "    <tr>\n",
       "      <td>132678</td>\n",
       "      <td>132729</td>\n",
       "      <td>2013-02-19</td>\n",
       "      <td>Nice gate</td>\n",
       "      <td>This thing must have gone to heck and back bef...</td>\n",
       "      <td>4</td>\n",
       "    </tr>\n",
       "    <tr>\n",
       "      <td>51895</td>\n",
       "      <td>51916</td>\n",
       "      <td>2013-02-21</td>\n",
       "      <td>Good product that only requires one hand to op...</td>\n",
       "      <td>This Diaper Genie really works well, although ...</td>\n",
       "      <td>4</td>\n",
       "    </tr>\n",
       "    <tr>\n",
       "      <td>82814</td>\n",
       "      <td>82847</td>\n",
       "      <td>2013-11-18</td>\n",
       "      <td>Goth Mom approved!</td>\n",
       "      <td>I got this, being a 'goth mom', I  was so exci...</td>\n",
       "      <td>5</td>\n",
       "    </tr>\n",
       "    <tr>\n",
       "      <td>75834</td>\n",
       "      <td>75862</td>\n",
       "      <td>2014-05-09</td>\n",
       "      <td>Worth the money</td>\n",
       "      <td>I was originally being ghetto and used a sport...</td>\n",
       "      <td>5</td>\n",
       "    </tr>\n",
       "  </tbody>\n",
       "</table>\n",
       "</div>"
      ],
      "text/plain": [
       "         index        date                                            summary  \\\n",
       "78644    78674  2011-05-16           love it now that i've gotten used to it!   \n",
       "93715    93752  2012-12-25                                          Kids love   \n",
       "61100    61125  2010-09-04                        Absorbent, but they shrink.   \n",
       "120860  120904  2012-10-10                         Cheap and works everytime!   \n",
       "162512  162572  2016-03-15                                            Perfect   \n",
       "35418    35434  2011-01-11           Decent liners for protecting your diaper   \n",
       "132678  132729  2013-02-19                                          Nice gate   \n",
       "51895    51916  2013-02-21  Good product that only requires one hand to op...   \n",
       "82814    82847  2013-11-18                                 Goth Mom approved!   \n",
       "75834    75862  2014-05-09                                    Worth the money   \n",
       "\n",
       "                                                   review  rating  \n",
       "78644   I had been searching everywhere for a car seat...       4  \n",
       "93715   My toddler loves this toy.  She can't turn the...       5  \n",
       "61100   WARNING: Do not use an enzyme spray on these p...       3  \n",
       "120860  This is such a great and amazing buy for mommi...       5  \n",
       "162512  Wanted a natural nail polish. And this is the ...       5  \n",
       "35418   I purchased these because I wanted a liner tha...       4  \n",
       "132678  This thing must have gone to heck and back bef...       4  \n",
       "51895   This Diaper Genie really works well, although ...       4  \n",
       "82814   I got this, being a 'goth mom', I  was so exci...       5  \n",
       "75834   I was originally being ghetto and used a sport...       5  "
      ]
     },
     "execution_count": 15,
     "metadata": {},
     "output_type": "execute_result"
    }
   ],
   "source": [
    "#view sample\n",
    "amreviews_sample.sample(10)"
   ]
  },
  {
   "cell_type": "markdown",
   "metadata": {},
   "source": [
    "## II. TF-IDF Transform"
   ]
  },
  {
   "cell_type": "markdown",
   "metadata": {},
   "source": [
    "### Transform reviews into Bag-Of-Words"
   ]
  },
  {
   "cell_type": "code",
   "execution_count": 16,
   "metadata": {},
   "outputs": [],
   "source": [
    "# import\n",
    "import sklearn\n",
    "from sklearn.feature_extraction.text import CountVectorizer\n",
    "from sklearn.feature_extraction import stop_words"
   ]
  },
  {
   "cell_type": "code",
   "execution_count": 21,
   "metadata": {},
   "outputs": [],
   "source": [
    "# convert in BOW\n",
    "vectorizer = CountVectorizer(stop_words=stop_words.ENGLISH_STOP_WORDS)\n",
    "X = vectorizer.fit_transform(amreviews_sample.review.values)"
   ]
  },
  {
   "cell_type": "markdown",
   "metadata": {},
   "source": [
    "### Write a function that performs TF-IDF"
   ]
  },
  {
   "cell_type": "code",
   "execution_count": 50,
   "metadata": {},
   "outputs": [],
   "source": [
    "def get_tfidf_matrix(X):\n",
    "    #function to calculate term freq for each element\n",
    "    tf = lambda x: np.log(1+x)\n",
    "    # apply tf lambda on matrix\n",
    "    tf_result = np.apply_along_axis(tf,1,X.toarray())  \n",
    "    #Get the total number of documents/reviews\n",
    "    N = len(X.toarray())\n",
    "    # Get frequency of each word across all documents\n",
    "    overall_freq = X.toarray().sum(axis=0)\n",
    "    # function to calculate idf for each word\n",
    "    idf = lambda x: np.log(N/(1+x))\n",
    "    idf_result = idf(overall_freq)\n",
    "    #multiply tf with idf for each document\n",
    "    return np.multiply(tf_result,idf_result)"
   ]
  },
  {
   "cell_type": "code",
   "execution_count": 52,
   "metadata": {},
   "outputs": [],
   "source": [
    "#get tf-idf matrix for reviews\n",
    "tf_idf = get_tfidf_matrix(X)"
   ]
  },
  {
   "cell_type": "markdown",
   "metadata": {},
   "source": [
    "## III. Implement k-means clustering using cosine similarity"
   ]
  },
  {
   "cell_type": "markdown",
   "metadata": {},
   "source": [
    "**Let's make 5 clusters!**"
   ]
  },
  {
   "cell_type": "code",
   "execution_count": 59,
   "metadata": {},
   "outputs": [
    {
     "data": {
      "text/plain": [
       "array([3745,  212, 2756,  411, 1805])"
      ]
     },
     "execution_count": 59,
     "metadata": {},
     "output_type": "execute_result"
    }
   ],
   "source": [
    "# Assign number of clusters to variables\n",
    "n = 5\n",
    "#Generate 5 random indices \n",
    "np.random.seed(45678)\n",
    "indices = np.random.choice(tf_idf.shape[0], n, replace=False)\n",
    "indices"
   ]
  },
  {
   "cell_type": "code",
   "execution_count": 62,
   "metadata": {},
   "outputs": [],
   "source": [
    "# Store the 5 randomly selected reviews as cluster centres\n",
    "cluster_centres = tf_idf[indices]"
   ]
  },
  {
   "cell_type": "code",
   "execution_count": null,
   "metadata": {},
   "outputs": [],
   "source": []
  }
 ],
 "metadata": {
  "kernelspec": {
   "display_name": "Python 3",
   "language": "python",
   "name": "python3"
  },
  "language_info": {
   "codemirror_mode": {
    "name": "ipython",
    "version": 3
   },
   "file_extension": ".py",
   "mimetype": "text/x-python",
   "name": "python",
   "nbconvert_exporter": "python",
   "pygments_lexer": "ipython3",
   "version": "3.7.4"
  }
 },
 "nbformat": 4,
 "nbformat_minor": 2
}
